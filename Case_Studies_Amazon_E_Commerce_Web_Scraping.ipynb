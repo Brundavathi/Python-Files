{
  "nbformat": 4,
  "nbformat_minor": 0,
  "metadata": {
    "colab": {
      "name": "Case Studies - Amazon E-Commerce Web Scraping.ipynb",
      "provenance": [],
      "collapsed_sections": [],
      "authorship_tag": "ABX9TyNwkdJ5EqrbQ2lzvFVg5DUH",
      "include_colab_link": true
    },
    "kernelspec": {
      "name": "python3",
      "display_name": "Python 3"
    }
  },
  "cells": [
    {
      "cell_type": "markdown",
      "metadata": {
        "id": "view-in-github",
        "colab_type": "text"
      },
      "source": [
        "<a href=\"https://colab.research.google.com/github/Brundavathi/Python-Files/blob/main/Case_Studies_Amazon_E_Commerce_Web_Scraping.ipynb\" target=\"_parent\"><img src=\"https://colab.research.google.com/assets/colab-badge.svg\" alt=\"Open In Colab\"/></a>"
      ]
    },
    {
      "cell_type": "code",
      "metadata": {
        "id": "7wc3OCz-mfnJ"
      },
      "source": [
        "import requests\n",
        "import bs4"
      ],
      "execution_count": null,
      "outputs": []
    },
    {
      "cell_type": "code",
      "metadata": {
        "id": "qQQtcbBWnmp2"
      },
      "source": [
        "res = requests.get('https://www.amazon.in/gp/bestsellers/books/ref=zg_bs_pg_1?ie=UTF8&pg=1')"
      ],
      "execution_count": null,
      "outputs": []
    },
    {
      "cell_type": "code",
      "metadata": {
        "id": "KFX1YlS-oLA2"
      },
      "source": [
        "content = res.content\n",
        "soup = bs4.BeautifulSoup(content)"
      ],
      "execution_count": null,
      "outputs": []
    },
    {
      "cell_type": "code",
      "metadata": {
        "id": "x4yL3nxlo0JE"
      },
      "source": [
        "complete_data = []\n",
        "for i in soup.find_all('div',attrs = {'class' : 'a-section a-spacing-none aok-relative'}):\n",
        "  #print(i.text)\n",
        "  book_name = i.find('span',attrs = {'class' : 'zg-text-center-align'})\n",
        "  name = book_name.find_all('img',alt = True)\n",
        "  author = i.find('a',attrs = {'class' : 'a-size-small a-link-child'})\n",
        "  rating = i.find('span',attrs = {'class' : 'a-icon-alt'})\n",
        "  no_of_rating = i.find('a',attrs = {'class' : 'a-size-small a-link-normal'})\n",
        "  price = i.find('span',attrs = {'class' : 'p13n-sc-price'})\n",
        "\n",
        "  myList = []\n",
        "\n",
        "  if name is not None:\n",
        "    myList.append(name[0]['alt'])\n",
        "  else:\n",
        "    myList.append('UnKnown Name')\n",
        "\n",
        "  if author is not None:\n",
        "     myList.append(author.text)\n",
        "  else:\n",
        "    myList.append('UnKnown Author')\n",
        "\n",
        "  if rating is not None:\n",
        "     myList.append(rating.text)\n",
        "  else:\n",
        "    myList.append('UnKnown Rating')\n",
        "\n",
        "  if no_of_rating is not None:\n",
        "     myList.append(no_of_rating.text)\n",
        "  else:\n",
        "    myList.append('UnKnown no_of_rating')\n",
        "\n",
        "  if price is not None:\n",
        "     myList.append(price.text)\n",
        "  else:\n",
        "    myList.append('UnKnown Price')\n",
        "\n",
        "  complete_data.append(myList)\n"
      ],
      "execution_count": null,
      "outputs": []
    },
    {
      "cell_type": "code",
      "metadata": {
        "id": "FiInKsktsEBD",
        "colab": {
          "base_uri": "https://localhost:8080/",
          "height": 102
        },
        "outputId": "2af92dbd-64bb-4463-beb0-e3814b6f26e4"
      },
      "source": [
        "complete_data[0]"
      ],
      "execution_count": null,
      "outputs": [
        {
          "output_type": "execute_result",
          "data": {
            "text/plain": [
              "['One Arranged Murder',\n",
              " 'Chetan Bhagat',\n",
              " '4.2 out of 5 stars',\n",
              " '994',\n",
              " '₹\\xa0141.00']"
            ]
          },
          "metadata": {
            "tags": []
          },
          "execution_count": 37
        }
      ]
    },
    {
      "cell_type": "code",
      "metadata": {
        "id": "Y2ypGxhP3x4g"
      },
      "source": [
        ""
      ],
      "execution_count": null,
      "outputs": []
    }
  ]
}