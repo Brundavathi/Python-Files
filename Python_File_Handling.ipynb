{
  "nbformat": 4,
  "nbformat_minor": 0,
  "metadata": {
    "colab": {
      "name": "Python File Handling.ipynb",
      "provenance": [],
      "collapsed_sections": [],
      "authorship_tag": "ABX9TyNeVpar+yAl+C8PeD3vZ+pe",
      "include_colab_link": true
    },
    "kernelspec": {
      "name": "python3",
      "display_name": "Python 3"
    }
  },
  "cells": [
    {
      "cell_type": "markdown",
      "metadata": {
        "id": "view-in-github",
        "colab_type": "text"
      },
      "source": [
        "<a href=\"https://colab.research.google.com/github/Brundavathi/Python-Files/blob/main/Python_File_Handling.ipynb\" target=\"_parent\"><img src=\"https://colab.research.google.com/assets/colab-badge.svg\" alt=\"Open In Colab\"/></a>"
      ]
    },
    {
      "cell_type": "code",
      "metadata": {
        "id": "DjbqD43lpKXi"
      },
      "source": [
        "#open a file\n",
        "\n",
        "myFile = open(\"test.txt\",\"r\")\n"
      ],
      "execution_count": null,
      "outputs": []
    },
    {
      "cell_type": "code",
      "metadata": {
        "id": "JkleQepapthZ",
        "colab": {
          "base_uri": "https://localhost:8080/",
          "height": 34
        },
        "outputId": "9a2237d6-b92b-4eed-c091-2e02f46794bb"
      },
      "source": [
        "print(myFile.read())"
      ],
      "execution_count": null,
      "outputs": [
        {
          "output_type": "stream",
          "text": [
            "Hello\n"
          ],
          "name": "stdout"
        }
      ]
    },
    {
      "cell_type": "code",
      "metadata": {
        "id": "BREIpStnqndx",
        "colab": {
          "base_uri": "https://localhost:8080/",
          "height": 34
        },
        "outputId": "12783665-d7f9-47d7-e92e-6f479d063f19"
      },
      "source": [
        "# using with keyword\n",
        "\n",
        "with open('test.txt','r') as file:\n",
        "  print(file.read(2))"
      ],
      "execution_count": null,
      "outputs": [
        {
          "output_type": "stream",
          "text": [
            "He\n"
          ],
          "name": "stdout"
        }
      ]
    },
    {
      "cell_type": "code",
      "metadata": {
        "id": "y200CsyirDE7",
        "colab": {
          "base_uri": "https://localhost:8080/",
          "height": 34
        },
        "outputId": "07bdd4b1-0580-4cf8-807c-09fe97801a53"
      },
      "source": [
        "# using readline function\n",
        "\n",
        "myFile = open(\"test.txt\",\"r\")\n",
        "print(myFile.readline()) #reads one line at a time"
      ],
      "execution_count": null,
      "outputs": [
        {
          "output_type": "stream",
          "text": [
            "Hello\n"
          ],
          "name": "stdout"
        }
      ]
    },
    {
      "cell_type": "code",
      "metadata": {
        "id": "2B5mB1QjsA7p",
        "colab": {
          "base_uri": "https://localhost:8080/",
          "height": 68
        },
        "outputId": "8025be8a-0f4b-4c5d-d816-0b35a3b4123e"
      },
      "source": [
        "#using read function\n",
        "\n",
        "myFile = open(\"test.txt\",\"r\")\n",
        "print(myFile.read())  # reads entire content"
      ],
      "execution_count": null,
      "outputs": [
        {
          "output_type": "stream",
          "text": [
            "Hello\n",
            "World\n",
            "How are you\n"
          ],
          "name": "stdout"
        }
      ]
    },
    {
      "cell_type": "code",
      "metadata": {
        "id": "XlDG398ssEji",
        "colab": {
          "base_uri": "https://localhost:8080/",
          "height": 34
        },
        "outputId": "d7157fa2-18be-473c-e319-ef0b1687297e"
      },
      "source": [
        "#using append function\n",
        "\n",
        "myFile = open(\"test.txt\",\"a\")\n",
        "myFile.write(\"I am Fine\")"
      ],
      "execution_count": null,
      "outputs": [
        {
          "output_type": "execute_result",
          "data": {
            "text/plain": [
              "9"
            ]
          },
          "metadata": {
            "tags": []
          },
          "execution_count": 13
        }
      ]
    },
    {
      "cell_type": "code",
      "metadata": {
        "id": "mOswgCoetJIO"
      },
      "source": [
        "#using write and close function\n",
        "\n",
        "myFile = open(\"test.txt\",\"w\")\n",
        "myFile.write(\"I am writing new content\")\n",
        "myFile.close()"
      ],
      "execution_count": null,
      "outputs": []
    },
    {
      "cell_type": "code",
      "metadata": {
        "id": "gSlsxz9SuQc-"
      },
      "source": [
        ""
      ],
      "execution_count": null,
      "outputs": []
    }
  ]
}