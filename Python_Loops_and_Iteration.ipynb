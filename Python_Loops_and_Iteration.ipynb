{
  "nbformat": 4,
  "nbformat_minor": 0,
  "metadata": {
    "colab": {
      "name": "Python - Loops and Iteration.ipynb",
      "provenance": [],
      "collapsed_sections": [],
      "authorship_tag": "ABX9TyNg6sME6+6SN9cHnJ7X4mae",
      "include_colab_link": true
    },
    "kernelspec": {
      "name": "python3",
      "display_name": "Python 3"
    }
  },
  "cells": [
    {
      "cell_type": "markdown",
      "metadata": {
        "id": "view-in-github",
        "colab_type": "text"
      },
      "source": [
        "<a href=\"https://colab.research.google.com/github/Brundavathi/Python-Files/blob/main/Python_Loops_and_Iteration.ipynb\" target=\"_parent\"><img src=\"https://colab.research.google.com/assets/colab-badge.svg\" alt=\"Open In Colab\"/></a>"
      ]
    },
    {
      "cell_type": "code",
      "metadata": {
        "id": "8ZAuKaBSFAYl",
        "colab": {
          "base_uri": "https://localhost:8080/"
        },
        "outputId": "9ed2ef92-660d-45ce-b4fe-8160f5fa69ea"
      },
      "source": [
        "#While loop\n",
        "\n",
        "i = 5\n",
        "while i < 10:\n",
        "  print(i)\n",
        "  i = i + 1\n",
        "  "
      ],
      "execution_count": null,
      "outputs": [
        {
          "output_type": "stream",
          "text": [
            "5\n",
            "6\n",
            "7\n",
            "8\n",
            "9\n"
          ],
          "name": "stdout"
        }
      ]
    },
    {
      "cell_type": "code",
      "metadata": {
        "id": "JKjKoZv7FcDG",
        "colab": {
          "base_uri": "https://localhost:8080/"
        },
        "outputId": "723e879e-6aae-4dd9-fe86-61cb5c16ff88"
      },
      "source": [
        "i = 1\n",
        "while i <= 5:\n",
        "  print(i + 5)\n",
        "  i = i + 1\n"
      ],
      "execution_count": null,
      "outputs": [
        {
          "output_type": "stream",
          "text": [
            "6\n",
            "7\n",
            "8\n",
            "9\n",
            "10\n"
          ],
          "name": "stdout"
        }
      ]
    },
    {
      "cell_type": "code",
      "metadata": {
        "id": "A6SuvcxaGzKC",
        "colab": {
          "base_uri": "https://localhost:8080/"
        },
        "outputId": "1447189f-7db3-4a6a-a013-5bf2a5e8b444"
      },
      "source": [
        "#Break Statement\n",
        "\n",
        "i = 1\n",
        "while i <= 10:\n",
        "  print(i + 4)\n",
        "  if i == 4:\n",
        "    break #stop the loop even if while condition is true\n",
        "  i = i + 1"
      ],
      "execution_count": null,
      "outputs": [
        {
          "output_type": "stream",
          "text": [
            "5\n",
            "6\n",
            "7\n",
            "8\n"
          ],
          "name": "stdout"
        }
      ]
    },
    {
      "cell_type": "code",
      "metadata": {
        "id": "aRvXIj43H8Mk",
        "colab": {
          "base_uri": "https://localhost:8080/"
        },
        "outputId": "01bdc6a7-c82b-4df7-9d0f-b3eb5d6d89a5"
      },
      "source": [
        "# Continue Statement\n",
        "\n",
        "i = 1\n",
        "while i <= 10: \n",
        "  i = i + 1 \n",
        "  if i == 5:\n",
        "    continue #skip the current iteration and continue with next, i.e 5 doesn't get executed\n",
        "  print(i)"
      ],
      "execution_count": null,
      "outputs": [
        {
          "output_type": "stream",
          "text": [
            "2\n",
            "3\n",
            "4\n",
            "6\n",
            "7\n",
            "8\n",
            "9\n",
            "10\n",
            "11\n"
          ],
          "name": "stdout"
        }
      ]
    },
    {
      "cell_type": "code",
      "metadata": {
        "id": "n79tBgKtJ7A-",
        "colab": {
          "base_uri": "https://localhost:8080/"
        },
        "outputId": "11b4a4b2-29a5-43de-f306-94d2c2b2379c"
      },
      "source": [
        "# Else Statement\n",
        "\n",
        "i = 1\n",
        "while i < 10:\n",
        "  print(i)\n",
        "  i = i + 1\n",
        "else:  \n",
        "  print(\"i is no longer less than 10\")"
      ],
      "execution_count": null,
      "outputs": [
        {
          "output_type": "stream",
          "text": [
            "1\n",
            "2\n",
            "3\n",
            "4\n",
            "5\n",
            "6\n",
            "7\n",
            "8\n",
            "9\n",
            "i is no longer less than 10\n"
          ],
          "name": "stdout"
        }
      ]
    },
    {
      "cell_type": "code",
      "metadata": {
        "id": "2iun4LJRLazy",
        "colab": {
          "base_uri": "https://localhost:8080/"
        },
        "outputId": "1224a14f-219c-4d71-bd4f-5ef6976c2dcc"
      },
      "source": [
        "# For Loop\n",
        "\n",
        "for i in [2,4,6]:\n",
        "  print(i)\n"
      ],
      "execution_count": null,
      "outputs": [
        {
          "output_type": "stream",
          "text": [
            "2\n",
            "4\n",
            "6\n"
          ],
          "name": "stdout"
        }
      ]
    },
    {
      "cell_type": "code",
      "metadata": {
        "id": "IaXabW9DMG7d",
        "colab": {
          "base_uri": "https://localhost:8080/"
        },
        "outputId": "6cd139aa-63be-4aec-fbc9-b88a881f573e"
      },
      "source": [
        "for i in [1,2,3,4,5]:\n",
        "  print(i + 5)"
      ],
      "execution_count": null,
      "outputs": [
        {
          "output_type": "stream",
          "text": [
            "6\n",
            "7\n",
            "8\n",
            "9\n",
            "10\n"
          ],
          "name": "stdout"
        }
      ]
    },
    {
      "cell_type": "code",
      "metadata": {
        "id": "AdptND8IMSrZ",
        "colab": {
          "base_uri": "https://localhost:8080/"
        },
        "outputId": "d8c22fab-f4f0-4ebe-f4ca-f8ebfa2e26f0"
      },
      "source": [
        "for i in ('a','b','c'):\n",
        "  print(i)"
      ],
      "execution_count": null,
      "outputs": [
        {
          "output_type": "stream",
          "text": [
            "a\n",
            "b\n",
            "c\n"
          ],
          "name": "stdout"
        }
      ]
    },
    {
      "cell_type": "code",
      "metadata": {
        "id": "pjTkZaSwMpiV",
        "colab": {
          "base_uri": "https://localhost:8080/"
        },
        "outputId": "1c980a4c-0be5-4757-d581-75d26a6ff8ad"
      },
      "source": [
        "for i in 'Hello':\n",
        "  print(i)"
      ],
      "execution_count": null,
      "outputs": [
        {
          "output_type": "stream",
          "text": [
            "H\n",
            "e\n",
            "l\n",
            "l\n",
            "o\n"
          ],
          "name": "stdout"
        }
      ]
    },
    {
      "cell_type": "code",
      "metadata": {
        "id": "Ozfs2fP9MyWR",
        "colab": {
          "base_uri": "https://localhost:8080/"
        },
        "outputId": "7e29a2b1-ca28-4753-efe5-36a9f62d5831"
      },
      "source": [
        "#Range Function\n",
        "\n",
        "print(list(range(0,10)))"
      ],
      "execution_count": null,
      "outputs": [
        {
          "output_type": "stream",
          "text": [
            "[0, 1, 2, 3, 4, 5, 6, 7, 8, 9]\n"
          ],
          "name": "stdout"
        }
      ]
    },
    {
      "cell_type": "code",
      "metadata": {
        "id": "JrLKoFDNNG35",
        "colab": {
          "base_uri": "https://localhost:8080/"
        },
        "outputId": "c9a44c0c-4d62-4837-c3f5-a69abd511e2a"
      },
      "source": [
        "for i in range(1,10):\n",
        "  print(i + 5)"
      ],
      "execution_count": null,
      "outputs": [
        {
          "output_type": "stream",
          "text": [
            "6\n",
            "7\n",
            "8\n",
            "9\n",
            "10\n",
            "11\n",
            "12\n",
            "13\n",
            "14\n"
          ],
          "name": "stdout"
        }
      ]
    },
    {
      "cell_type": "code",
      "metadata": {
        "id": "o_BPEEhuNcIX"
      },
      "source": [
        "a = []\n",
        "for i in range(1,10):\n",
        "  a.append(i + 5) "
      ],
      "execution_count": null,
      "outputs": []
    },
    {
      "cell_type": "code",
      "metadata": {
        "id": "L3DEesPUN_zL",
        "colab": {
          "base_uri": "https://localhost:8080/"
        },
        "outputId": "ca125eee-6232-4244-f21a-3434d1aedc8d"
      },
      "source": [
        "a"
      ],
      "execution_count": null,
      "outputs": [
        {
          "output_type": "execute_result",
          "data": {
            "text/plain": [
              "[6, 7, 8, 9, 10, 11, 12, 13, 14]"
            ]
          },
          "metadata": {
            "tags": []
          },
          "execution_count": 18
        }
      ]
    },
    {
      "cell_type": "code",
      "metadata": {
        "id": "pRlvmPabODxH",
        "colab": {
          "base_uri": "https://localhost:8080/"
        },
        "outputId": "8fbe166f-450f-40d6-f545-a7766c4ac28b"
      },
      "source": [
        "a[4]"
      ],
      "execution_count": null,
      "outputs": [
        {
          "output_type": "execute_result",
          "data": {
            "text/plain": [
              "10"
            ]
          },
          "metadata": {
            "tags": []
          },
          "execution_count": 21
        }
      ]
    },
    {
      "cell_type": "code",
      "metadata": {
        "id": "TzS6564iOPXO",
        "colab": {
          "base_uri": "https://localhost:8080/"
        },
        "outputId": "f3a9db3b-836c-46e9-d899-a064ba0f53ff"
      },
      "source": [
        "#key as well as value\n",
        "\n",
        "for k,v  in enumerate(range(1,11)):\n",
        "  print(k,'---',v+5)"
      ],
      "execution_count": null,
      "outputs": [
        {
          "output_type": "stream",
          "text": [
            "0 --- 6\n",
            "1 --- 7\n",
            "2 --- 8\n",
            "3 --- 9\n",
            "4 --- 10\n",
            "5 --- 11\n",
            "6 --- 12\n",
            "7 --- 13\n",
            "8 --- 14\n",
            "9 --- 15\n"
          ],
          "name": "stdout"
        }
      ]
    },
    {
      "cell_type": "code",
      "metadata": {
        "id": "jbtOgvmSOyJQ",
        "colab": {
          "base_uri": "https://localhost:8080/"
        },
        "outputId": "8f90c9ea-65e1-4161-a4fa-a52bede97e48"
      },
      "source": [
        "# Single line for loop\n",
        "\n",
        "[ i + 5 for i in range(1,11)]"
      ],
      "execution_count": null,
      "outputs": [
        {
          "output_type": "execute_result",
          "data": {
            "text/plain": [
              "[6, 7, 8, 9, 10, 11, 12, 13, 14, 15]"
            ]
          },
          "metadata": {
            "tags": []
          },
          "execution_count": 26
        }
      ]
    },
    {
      "cell_type": "code",
      "metadata": {
        "id": "ClKSlnckPQYO",
        "colab": {
          "base_uri": "https://localhost:8080/"
        },
        "outputId": "38d4af52-1d35-4699-c968-5e526be9069c"
      },
      "source": [
        "#Single line loop with condition\n",
        "\n",
        "[i for i in range(1,11) if i > 5]"
      ],
      "execution_count": null,
      "outputs": [
        {
          "output_type": "execute_result",
          "data": {
            "text/plain": [
              "[6, 7, 8, 9, 10]"
            ]
          },
          "metadata": {
            "tags": []
          },
          "execution_count": 27
        }
      ]
    },
    {
      "cell_type": "code",
      "metadata": {
        "id": "qXJf3EYJP4PU",
        "colab": {
          "base_uri": "https://localhost:8080/"
        },
        "outputId": "b60b1f96-b572-45bf-8535-8df3f0f127d0"
      },
      "source": [
        "#Nested Loops\n",
        "\n",
        "num_list = [1,2,3]\n",
        "alpha_list = ['a','b','c']\n",
        "\n",
        "for i in num_list:\n",
        "  print(i)\n",
        "  for j in alpha_list:\n",
        "    print(j)"
      ],
      "execution_count": null,
      "outputs": [
        {
          "output_type": "stream",
          "text": [
            "1\n",
            "a\n",
            "b\n",
            "c\n",
            "2\n",
            "a\n",
            "b\n",
            "c\n",
            "3\n",
            "a\n",
            "b\n",
            "c\n"
          ],
          "name": "stdout"
        }
      ]
    },
    {
      "cell_type": "code",
      "metadata": {
        "id": "PG9LTORDRJ1F"
      },
      "source": [
        ""
      ],
      "execution_count": null,
      "outputs": []
    }
  ]
}