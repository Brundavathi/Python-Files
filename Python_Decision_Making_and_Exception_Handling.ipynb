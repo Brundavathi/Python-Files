{
  "nbformat": 4,
  "nbformat_minor": 0,
  "metadata": {
    "colab": {
      "name": "Python - Decision Making and Exception Handling.ipynb",
      "provenance": [],
      "collapsed_sections": [],
      "authorship_tag": "ABX9TyMDhhC/OZJRrVmzroVBrK06",
      "include_colab_link": true
    },
    "kernelspec": {
      "name": "python3",
      "display_name": "Python 3"
    }
  },
  "cells": [
    {
      "cell_type": "markdown",
      "metadata": {
        "id": "view-in-github",
        "colab_type": "text"
      },
      "source": [
        "<a href=\"https://colab.research.google.com/github/Brundavathi/Python-Files/blob/main/Python_Decision_Making_and_Exception_Handling.ipynb\" target=\"_parent\"><img src=\"https://colab.research.google.com/assets/colab-badge.svg\" alt=\"Open In Colab\"/></a>"
      ]
    },
    {
      "cell_type": "code",
      "metadata": {
        "id": "HaYI-OjDsuYZ",
        "colab": {
          "base_uri": "https://localhost:8080/"
        },
        "outputId": "7d2a8b8f-9cb9-4076-c3f4-447a15d2fb4a"
      },
      "source": [
        "#One Way Decision\n",
        "\n",
        "if 10 > 5 :\n",
        "  print('5')\n",
        "print(10)"
      ],
      "execution_count": null,
      "outputs": [
        {
          "output_type": "stream",
          "text": [
            "5\n",
            "10\n"
          ],
          "name": "stdout"
        }
      ]
    },
    {
      "cell_type": "code",
      "metadata": {
        "id": "nV_zsuO4xSFj",
        "colab": {
          "base_uri": "https://localhost:8080/"
        },
        "outputId": "4c44ed21-e064-42a9-b822-012de233951e"
      },
      "source": [
        "#Two-Way Decision\n",
        "\n",
        "if 10 < 5:\n",
        "  print('True')\n",
        "else:\n",
        "  print('Flase')"
      ],
      "execution_count": null,
      "outputs": [
        {
          "output_type": "stream",
          "text": [
            "Flase\n"
          ],
          "name": "stdout"
        }
      ]
    },
    {
      "cell_type": "code",
      "metadata": {
        "id": "Om0_ROmPy3pD",
        "colab": {
          "base_uri": "https://localhost:8080/"
        },
        "outputId": "b6f7e867-f827-475f-941c-078ad0e4c448"
      },
      "source": [
        "balance = input('Enter your Balance : \\n')\n",
        "balance = int(balance)\n",
        "\n",
        "if balance > 1000:\n",
        "  print('Balance is greater than 1000')\n",
        "else:\n",
        "  print('Balance is less than 1000')"
      ],
      "execution_count": null,
      "outputs": [
        {
          "output_type": "stream",
          "text": [
            "Enter your Balance : \n",
            "500\n",
            "Balance is less than 1000\n"
          ],
          "name": "stdout"
        }
      ]
    },
    {
      "cell_type": "code",
      "metadata": {
        "id": "BcDNAOuMzqNB",
        "colab": {
          "base_uri": "https://localhost:8080/"
        },
        "outputId": "203a06a5-a6d6-41ec-b988-f293c8a3e83e"
      },
      "source": [
        "#Multiway Decision\n",
        "\n",
        "balance = input('Enter your Balance : \\n')\n",
        "balance = int(balance)\n",
        "\n",
        "if balance > 1000:\n",
        "  print('Balance is greater than 1000')\n",
        "elif balance == 1000:\n",
        "  print('Balance equals to 1000')\n",
        "elif balance > 2000:\n",
        "  print('Balance greater than 2000') #top-down approach so this block doesnot get executed\n",
        "else:\n",
        "  print('Balance is less than 1000')"
      ],
      "execution_count": null,
      "outputs": [
        {
          "output_type": "stream",
          "text": [
            "Enter your Balance : \n",
            "1000\n",
            "Balance equals to 1000\n"
          ],
          "name": "stdout"
        }
      ]
    },
    {
      "cell_type": "code",
      "metadata": {
        "id": "iuBJFxFa1pk-",
        "colab": {
          "base_uri": "https://localhost:8080/"
        },
        "outputId": "976bc455-9372-4c77-882e-578d1675e80b"
      },
      "source": [
        "#Nested Decision Making\n",
        "balance = input('Enter your Balance : \\n')\n",
        "balance = int(balance)\n",
        "\n",
        "if balance > 1000:\n",
        "  if balance > 1500:\n",
        "    print('Balance greater than 1500')\n",
        "  else: \n",
        "    print('Balance is greater than 1000')\n",
        "elif balance == 1000:\n",
        "  print('Balance equals to 1000')\n",
        "else:\n",
        "  print('Balance is less than 1000')"
      ],
      "execution_count": null,
      "outputs": [
        {
          "output_type": "stream",
          "text": [
            "Enter your Balance : \n",
            "1600\n",
            "Balance greater than 1500\n"
          ],
          "name": "stdout"
        }
      ]
    },
    {
      "cell_type": "code",
      "metadata": {
        "id": "1lQvoqJN4KOk",
        "colab": {
          "base_uri": "https://localhost:8080/"
        },
        "outputId": "0f5a5671-0a09-442c-bc55-728d09d2b39c"
      },
      "source": [
        "#Using Logical Operator\n",
        "balance = input('Enter your Balance : \\n')\n",
        "balance = int(balance)\n",
        "\n",
        "if (balance > 1000 and balance > 1500):\n",
        "    print('Balance greater than 1500')  \n",
        "elif (balance == 1000):\n",
        "  print('Balance equals to 1000')\n",
        "else:\n",
        "  print('Balance is less than 1000')"
      ],
      "execution_count": null,
      "outputs": [
        {
          "output_type": "stream",
          "text": [
            "Enter your Balance : \n",
            "1800\n",
            "Balance greater than 1500\n"
          ],
          "name": "stdout"
        }
      ]
    },
    {
      "cell_type": "code",
      "metadata": {
        "id": "f0wlco3K435J"
      },
      "source": [
        ""
      ],
      "execution_count": null,
      "outputs": []
    },
    {
      "cell_type": "markdown",
      "metadata": {
        "id": "OQnG6S3OWWgB"
      },
      "source": [
        "# Exception Handling\n"
      ]
    },
    {
      "cell_type": "code",
      "metadata": {
        "id": "Lkeu2f6OWegF",
        "colab": {
          "base_uri": "https://localhost:8080/"
        },
        "outputId": "6ab1d256-80f3-4f42-bc44-67e6ec0899b6"
      },
      "source": [
        "try:\n",
        "  print(50/0)\n",
        "except:\n",
        "  print('You cannot divide a number by zero')"
      ],
      "execution_count": null,
      "outputs": [
        {
          "output_type": "stream",
          "text": [
            "You cannot divide a number by zero\n"
          ],
          "name": "stdout"
        }
      ]
    },
    {
      "cell_type": "code",
      "metadata": {
        "id": "p_fMygduWsuv",
        "colab": {
          "base_uri": "https://localhost:8080/"
        },
        "outputId": "6a11017c-7e2c-4bfd-d59a-d2983448ba52"
      },
      "source": [
        "#Built-in Exception\n",
        "\n",
        "try:\n",
        "  # x = 10  (if variable not defined)\n",
        "  print(x)\n",
        "except NameError:\n",
        "  print('Variable x is not defined')\n",
        "except:\n",
        "  print('something went wrong')"
      ],
      "execution_count": null,
      "outputs": [
        {
          "output_type": "stream",
          "text": [
            "Variable x is not defined\n"
          ],
          "name": "stdout"
        }
      ]
    },
    {
      "cell_type": "code",
      "metadata": {
        "id": "gaKV4lRiX_vl"
      },
      "source": [
        "# try and Finally Statement\n",
        "\n",
        "try:\n",
        "  f = open(\"test.txt\",encoding = 'utf-8') # perform file operation\n",
        "finally:\n",
        "  f.close() # close file\n"
      ],
      "execution_count": null,
      "outputs": []
    },
    {
      "cell_type": "code",
      "metadata": {
        "id": "-G7tR603RjHX",
        "colab": {
          "base_uri": "https://localhost:8080/"
        },
        "outputId": "f60fd1a8-1b76-4ddf-b8f6-039fd7bf66af"
      },
      "source": [
        "# Raise Exception\n",
        "\n",
        "try:\n",
        "  a = int(input(\"Enter a Positive Integer : \"))\n",
        "  if a <= 0:\n",
        "    raise ValueError(\"Entered number is not a positive number!\")\n",
        "except ValueError as ve:\n",
        "    print(ve)"
      ],
      "execution_count": null,
      "outputs": [
        {
          "output_type": "stream",
          "text": [
            "Enter a Positive Integer : -10\n",
            "Entered number is not a positive number!\n"
          ],
          "name": "stdout"
        }
      ]
    },
    {
      "cell_type": "code",
      "metadata": {
        "id": "_SNGthZKUCFx"
      },
      "source": [
        ""
      ],
      "execution_count": null,
      "outputs": []
    }
  ]
}