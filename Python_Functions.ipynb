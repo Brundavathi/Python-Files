{
  "nbformat": 4,
  "nbformat_minor": 0,
  "metadata": {
    "colab": {
      "name": "Python - Functions.ipynb",
      "provenance": [],
      "collapsed_sections": [],
      "authorship_tag": "ABX9TyN0TiPiPKr4A3t47LoxKdbG",
      "include_colab_link": true
    },
    "kernelspec": {
      "name": "python3",
      "display_name": "Python 3"
    },
    "language_info": {
      "name": "python"
    }
  },
  "cells": [
    {
      "cell_type": "markdown",
      "metadata": {
        "id": "view-in-github",
        "colab_type": "text"
      },
      "source": [
        "<a href=\"https://colab.research.google.com/github/Brundavathi/Python-Files/blob/main/Python_Functions.ipynb\" target=\"_parent\"><img src=\"https://colab.research.google.com/assets/colab-badge.svg\" alt=\"Open In Colab\"/></a>"
      ]
    },
    {
      "cell_type": "code",
      "metadata": {
        "id": "xPECBZgDBX5j"
      },
      "source": [
        "def my_func(x):\n",
        "  print('Value is',x)"
      ],
      "execution_count": 2,
      "outputs": []
    },
    {
      "cell_type": "code",
      "metadata": {
        "colab": {
          "base_uri": "https://localhost:8080/"
        },
        "id": "-oV5sqJdB5yP",
        "outputId": "9789847c-aa16-4d09-a753-cc4f108bfeef"
      },
      "source": [
        "my_func(10)"
      ],
      "execution_count": 3,
      "outputs": [
        {
          "output_type": "stream",
          "text": [
            "Value is 10\n"
          ],
          "name": "stdout"
        }
      ]
    },
    {
      "cell_type": "code",
      "metadata": {
        "id": "zyPJFpGSCDvW"
      },
      "source": [
        "def my_func(x):\n",
        "  return x + 10"
      ],
      "execution_count": 4,
      "outputs": []
    },
    {
      "cell_type": "code",
      "metadata": {
        "colab": {
          "base_uri": "https://localhost:8080/"
        },
        "id": "3T_R3y7vCNEb",
        "outputId": "e45ada5c-2718-40f8-c668-ec450b528862"
      },
      "source": [
        "my_func(5)"
      ],
      "execution_count": 5,
      "outputs": [
        {
          "output_type": "execute_result",
          "data": {
            "text/plain": [
              "15"
            ]
          },
          "metadata": {
            "tags": []
          },
          "execution_count": 5
        }
      ]
    },
    {
      "cell_type": "code",
      "metadata": {
        "id": "juTFf9jCCPZ7"
      },
      "source": [
        "def no_return():\n",
        "  pass"
      ],
      "execution_count": 6,
      "outputs": []
    },
    {
      "cell_type": "code",
      "metadata": {
        "colab": {
          "base_uri": "https://localhost:8080/"
        },
        "id": "8GBAY-j8CnZo",
        "outputId": "ab90cb23-6066-4489-8acc-8f7faf8b0d0f"
      },
      "source": [
        "print('Hello')"
      ],
      "execution_count": 7,
      "outputs": [
        {
          "output_type": "stream",
          "text": [
            "Hello\n"
          ],
          "name": "stdout"
        }
      ]
    },
    {
      "cell_type": "code",
      "metadata": {
        "colab": {
          "base_uri": "https://localhost:8080/",
          "height": 52
        },
        "id": "5JZr8Sx4Cr2L",
        "outputId": "45ab98cd-2b7c-4254-860f-2013d97010e4"
      },
      "source": [
        "input('Enter Value')"
      ],
      "execution_count": 8,
      "outputs": [
        {
          "output_type": "stream",
          "text": [
            "Enter Value10\n"
          ],
          "name": "stdout"
        },
        {
          "output_type": "execute_result",
          "data": {
            "application/vnd.google.colaboratory.intrinsic+json": {
              "type": "string"
            },
            "text/plain": [
              "'10'"
            ]
          },
          "metadata": {
            "tags": []
          },
          "execution_count": 8
        }
      ]
    },
    {
      "cell_type": "code",
      "metadata": {
        "colab": {
          "base_uri": "https://localhost:8080/"
        },
        "id": "JBe1mdO6CxVy",
        "outputId": "9fa7c26a-aea8-42c3-cb71-939fb69a352d"
      },
      "source": [
        "sum([10,20])"
      ],
      "execution_count": 9,
      "outputs": [
        {
          "output_type": "execute_result",
          "data": {
            "text/plain": [
              "30"
            ]
          },
          "metadata": {
            "tags": []
          },
          "execution_count": 9
        }
      ]
    },
    {
      "cell_type": "code",
      "metadata": {
        "colab": {
          "base_uri": "https://localhost:8080/"
        },
        "id": "qRb3hd3rC3os",
        "outputId": "9a7e0f87-053b-4d58-f8f2-18a5a9621a8b"
      },
      "source": [
        "min([1,2,3,4])"
      ],
      "execution_count": 10,
      "outputs": [
        {
          "output_type": "execute_result",
          "data": {
            "text/plain": [
              "1"
            ]
          },
          "metadata": {
            "tags": []
          },
          "execution_count": 10
        }
      ]
    },
    {
      "cell_type": "code",
      "metadata": {
        "colab": {
          "base_uri": "https://localhost:8080/"
        },
        "id": "md2EZ5A8C84V",
        "outputId": "95acaded-f926-433c-d911-8ddc925968ef"
      },
      "source": [
        "max([1,2,3,4])"
      ],
      "execution_count": 11,
      "outputs": [
        {
          "output_type": "execute_result",
          "data": {
            "text/plain": [
              "4"
            ]
          },
          "metadata": {
            "tags": []
          },
          "execution_count": 11
        }
      ]
    },
    {
      "cell_type": "code",
      "metadata": {
        "id": "ZVeJWq7YDAik"
      },
      "source": [
        "def my_addition(x,y):\n",
        "  sum = x + y\n",
        "  return sum"
      ],
      "execution_count": 12,
      "outputs": []
    },
    {
      "cell_type": "code",
      "metadata": {
        "colab": {
          "base_uri": "https://localhost:8080/"
        },
        "id": "9mSCV2dwDOM5",
        "outputId": "ebd531e8-2be6-4670-9287-75f0da46dce4"
      },
      "source": [
        "my_addition(1,22)"
      ],
      "execution_count": 13,
      "outputs": [
        {
          "output_type": "execute_result",
          "data": {
            "text/plain": [
              "23"
            ]
          },
          "metadata": {
            "tags": []
          },
          "execution_count": 13
        }
      ]
    },
    {
      "cell_type": "code",
      "metadata": {
        "id": "LfSsL6IHDSla"
      },
      "source": [
        "#Keyword Based Arguments\n",
        "\n",
        "def keyword_func(k1,k2,k3):\n",
        "  print(\"Value of k2 is\", k2)"
      ],
      "execution_count": 14,
      "outputs": []
    },
    {
      "cell_type": "code",
      "metadata": {
        "colab": {
          "base_uri": "https://localhost:8080/"
        },
        "id": "5iyH2K1ODuLd",
        "outputId": "8f541b8c-a1a7-4682-8399-c42a0b56792b"
      },
      "source": [
        "keyword_func(k1 = '11',k2 = '22',k3 = '33')"
      ],
      "execution_count": 15,
      "outputs": [
        {
          "output_type": "stream",
          "text": [
            "Value of k2 is 22\n"
          ],
          "name": "stdout"
        }
      ]
    },
    {
      "cell_type": "code",
      "metadata": {
        "colab": {
          "base_uri": "https://localhost:8080/"
        },
        "id": "TvBemTx6D9sM",
        "outputId": "888ba11f-3a63-4414-9778-f247e403f916"
      },
      "source": [
        "keyword_func(k2 = '22',k1 = '11',k3 = '33')"
      ],
      "execution_count": 16,
      "outputs": [
        {
          "output_type": "stream",
          "text": [
            "Value of k2 is 22\n"
          ],
          "name": "stdout"
        }
      ]
    },
    {
      "cell_type": "code",
      "metadata": {
        "id": "RxEppHYaEFEx"
      },
      "source": [
        "#Arbitrary Argument\n",
        "\n",
        "def greet(*names):\n",
        "  for name in names:\n",
        "    print(\"Hello\",name)"
      ],
      "execution_count": 17,
      "outputs": []
    },
    {
      "cell_type": "code",
      "metadata": {
        "colab": {
          "base_uri": "https://localhost:8080/"
        },
        "id": "X7MhEX7tEmri",
        "outputId": "153d5dac-cf2c-42b2-f313-8437e18de17d"
      },
      "source": [
        "greet(\"Ram\",\"Shardha\",\"Shakshi\",\"Varun\")"
      ],
      "execution_count": 18,
      "outputs": [
        {
          "output_type": "stream",
          "text": [
            "Hello Ram\n",
            "Hello Shardha\n",
            "Hello Shakshi\n",
            "Hello Varun\n"
          ],
          "name": "stdout"
        }
      ]
    },
    {
      "cell_type": "code",
      "metadata": {
        "id": "WaTxnCQeEyJ0",
        "colab": {
          "base_uri": "https://localhost:8080/"
        },
        "outputId": "e51af7a4-ac8e-4aef-b657-700f1c1f8a79"
      },
      "source": [
        "greet(\"Ram\",\"Shardha\")"
      ],
      "execution_count": 19,
      "outputs": [
        {
          "output_type": "stream",
          "text": [
            "Hello Ram\n",
            "Hello Shardha\n"
          ],
          "name": "stdout"
        }
      ]
    },
    {
      "cell_type": "code",
      "metadata": {
        "id": "L7Ndtq3_wqew"
      },
      "source": [
        "def greet(name,msg = \"Good Morning!\"):\n",
        "  print(\"Hello\",name,msg)"
      ],
      "execution_count": 24,
      "outputs": []
    },
    {
      "cell_type": "code",
      "metadata": {
        "colab": {
          "base_uri": "https://localhost:8080/"
        },
        "id": "-qXfq5gHxMBe",
        "outputId": "1ed01668-8d85-4963-db02-322588d8eaa2"
      },
      "source": [
        "greet(\"Rohan\")"
      ],
      "execution_count": 25,
      "outputs": [
        {
          "output_type": "stream",
          "text": [
            "Hello Rohan Good Morning!\n"
          ],
          "name": "stdout"
        }
      ]
    },
    {
      "cell_type": "code",
      "metadata": {
        "colab": {
          "base_uri": "https://localhost:8080/"
        },
        "id": "9onkBngxxitr",
        "outputId": "354f7c3a-7a3d-4013-91db-f69050ed738d"
      },
      "source": [
        "greet(\"Rohan\",msg = \"Good Afternoon!\")"
      ],
      "execution_count": 26,
      "outputs": [
        {
          "output_type": "stream",
          "text": [
            "Hello Rohan Good Afternoon!\n"
          ],
          "name": "stdout"
        }
      ]
    },
    {
      "cell_type": "code",
      "metadata": {
        "id": "YMtdGsJHxPU2"
      },
      "source": [
        "#Function Recursion\n",
        "\n",
        "def recur_fact(x):\n",
        "  if x == 1:\n",
        "    return 1\n",
        "  else:\n",
        "    return (x * recur_fact(x - 1))"
      ],
      "execution_count": 29,
      "outputs": []
    },
    {
      "cell_type": "code",
      "metadata": {
        "colab": {
          "base_uri": "https://localhost:8080/"
        },
        "id": "S1TmdBGCyTks",
        "outputId": "80491ed4-865c-46ab-9052-cd60a7cda2ef"
      },
      "source": [
        "num = int(input(\"Enter a number : \"))\n",
        "if num >= 1:\n",
        "  print(\"The Factorial of\", num, \"is\", recur_fact(num))"
      ],
      "execution_count": 30,
      "outputs": [
        {
          "output_type": "stream",
          "text": [
            "Enter a number : 4\n",
            "The Factorial of 4 is 24\n"
          ],
          "name": "stdout"
        }
      ]
    },
    {
      "cell_type": "markdown",
      "metadata": {
        "id": "IRmgSaF_zD7u"
      },
      "source": [
        "Lambda Functions\n"
      ]
    },
    {
      "cell_type": "code",
      "metadata": {
        "id": "LCr6ro7By_xK"
      },
      "source": [
        "#Simple Multiplication Function\n",
        "\n",
        "def multiply(x,y):\n",
        "  return x * y"
      ],
      "execution_count": 31,
      "outputs": []
    },
    {
      "cell_type": "code",
      "metadata": {
        "colab": {
          "base_uri": "https://localhost:8080/"
        },
        "id": "v9ZjZX2wzXk2",
        "outputId": "fd793ca9-1b92-41b6-b0ac-49d827fb492b"
      },
      "source": [
        "multiply(2,3)"
      ],
      "execution_count": 32,
      "outputs": [
        {
          "output_type": "execute_result",
          "data": {
            "text/plain": [
              "6"
            ]
          },
          "metadata": {
            "tags": []
          },
          "execution_count": 32
        }
      ]
    },
    {
      "cell_type": "code",
      "metadata": {
        "id": "QbQw8SMpzaRu"
      },
      "source": [
        "#Lambda Function\n",
        "\n",
        "mul = lambda x,y: x * y"
      ],
      "execution_count": 33,
      "outputs": []
    },
    {
      "cell_type": "code",
      "metadata": {
        "colab": {
          "base_uri": "https://localhost:8080/"
        },
        "id": "LNkFfaQ0zr43",
        "outputId": "7d62e21f-193c-40e0-e98e-d8254e83fb05"
      },
      "source": [
        "mul(2,3)"
      ],
      "execution_count": 34,
      "outputs": [
        {
          "output_type": "execute_result",
          "data": {
            "text/plain": [
              "6"
            ]
          },
          "metadata": {
            "tags": []
          },
          "execution_count": 34
        }
      ]
    },
    {
      "cell_type": "code",
      "metadata": {
        "id": "JHSEJROoztwV"
      },
      "source": [
        "#Program to filter out only even numbers from the list\n",
        "\n",
        "new_list = filter(lambda x: x % 2 == 0,[1,2,3,4])"
      ],
      "execution_count": 36,
      "outputs": []
    },
    {
      "cell_type": "code",
      "metadata": {
        "colab": {
          "base_uri": "https://localhost:8080/"
        },
        "id": "MHZF_5WC0Q2y",
        "outputId": "34062476-1727-4316-c9ea-e9078a0be0c2"
      },
      "source": [
        "print(list(new_list))"
      ],
      "execution_count": 37,
      "outputs": [
        {
          "output_type": "stream",
          "text": [
            "[2, 4]\n"
          ],
          "name": "stdout"
        }
      ]
    },
    {
      "cell_type": "code",
      "metadata": {
        "id": "-IkLoui-0ZUD"
      },
      "source": [
        "#Program to double each item in a list using a map\n",
        "\n",
        "my_list = [1,2,3,4]\n",
        "new_list = map(lambda x : x * 2, my_list)"
      ],
      "execution_count": 38,
      "outputs": []
    },
    {
      "cell_type": "code",
      "metadata": {
        "colab": {
          "base_uri": "https://localhost:8080/"
        },
        "id": "dTvO3uYe05fu",
        "outputId": "1dd96942-29b9-4398-b8cc-ac0ffc867376"
      },
      "source": [
        "print(list(new_list))"
      ],
      "execution_count": 39,
      "outputs": [
        {
          "output_type": "stream",
          "text": [
            "[2, 4, 6, 8]\n"
          ],
          "name": "stdout"
        }
      ]
    },
    {
      "cell_type": "code",
      "metadata": {
        "id": "cYbbKuj0088f"
      },
      "source": [
        "import functools"
      ],
      "execution_count": 40,
      "outputs": []
    },
    {
      "cell_type": "code",
      "metadata": {
        "colab": {
          "base_uri": "https://localhost:8080/"
        },
        "id": "oK7xn6rW1A8r",
        "outputId": "e2cd1180-e6a0-41ff-ca2d-f65fb8122668"
      },
      "source": [
        "lambda_reduce = functools.reduce(lambda x,y: x + y,my_list)\n",
        "print(lambda_reduce)"
      ],
      "execution_count": 41,
      "outputs": [
        {
          "output_type": "stream",
          "text": [
            "10\n"
          ],
          "name": "stdout"
        }
      ]
    },
    {
      "cell_type": "code",
      "metadata": {
        "id": "0kwtV8PU1brB"
      },
      "source": [
        ""
      ],
      "execution_count": null,
      "outputs": []
    }
  ]
}