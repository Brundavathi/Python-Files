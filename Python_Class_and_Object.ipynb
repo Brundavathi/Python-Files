{
  "nbformat": 4,
  "nbformat_minor": 0,
  "metadata": {
    "colab": {
      "name": "Python - Class and Object.ipynb",
      "provenance": [],
      "collapsed_sections": [],
      "authorship_tag": "ABX9TyPVTa404aHtbdgaVDetIIR2",
      "include_colab_link": true
    },
    "kernelspec": {
      "name": "python3",
      "display_name": "Python 3"
    }
  },
  "cells": [
    {
      "cell_type": "markdown",
      "metadata": {
        "id": "view-in-github",
        "colab_type": "text"
      },
      "source": [
        "<a href=\"https://colab.research.google.com/github/Brundavathi/Python-Files/blob/main/Python_Class_and_Object.ipynb\" target=\"_parent\"><img src=\"https://colab.research.google.com/assets/colab-badge.svg\" alt=\"Open In Colab\"/></a>"
      ]
    },
    {
      "cell_type": "code",
      "metadata": {
        "id": "2kqPT1GoJNUP"
      },
      "source": [
        "class Dog:\n",
        "  def bark(self):\n",
        "    print(\"Dog is Barking\")\n",
        "  def sit(self):\n",
        "    print(\"Dog is Sitting\")\n",
        "  def eat(self):\n",
        "    print(\"Dog is eating\")"
      ],
      "execution_count": null,
      "outputs": []
    },
    {
      "cell_type": "code",
      "metadata": {
        "id": "ydymLiuVKHTm"
      },
      "source": [
        "#create an object\n",
        "\n",
        "scooby = Dog()"
      ],
      "execution_count": null,
      "outputs": []
    },
    {
      "cell_type": "code",
      "metadata": {
        "id": "kxJbeRLgKR2Z",
        "colab": {
          "base_uri": "https://localhost:8080/",
          "height": 34
        },
        "outputId": "7e5f7bcc-8d66-42e6-c724-932ea3e4be92"
      },
      "source": [
        "# Access Methods\n",
        "\n",
        "scooby.bark()"
      ],
      "execution_count": null,
      "outputs": [
        {
          "output_type": "stream",
          "text": [
            "Dog is Barking\n"
          ],
          "name": "stdout"
        }
      ]
    },
    {
      "cell_type": "code",
      "metadata": {
        "id": "X5JIIoshKmkS"
      },
      "source": [
        "tom = Dog()"
      ],
      "execution_count": null,
      "outputs": []
    },
    {
      "cell_type": "code",
      "metadata": {
        "id": "4t2E1r1JK8Js",
        "colab": {
          "base_uri": "https://localhost:8080/",
          "height": 34
        },
        "outputId": "792975ba-54b4-4721-b713-e58afab27a70"
      },
      "source": [
        "tom.sit()"
      ],
      "execution_count": null,
      "outputs": [
        {
          "output_type": "stream",
          "text": [
            "Dog is Sitting\n"
          ],
          "name": "stdout"
        }
      ]
    },
    {
      "cell_type": "code",
      "metadata": {
        "id": "uGTLNuTdK_Ej"
      },
      "source": [
        "# Delete an Object\n",
        "\n",
        "del tom"
      ],
      "execution_count": null,
      "outputs": []
    },
    {
      "cell_type": "code",
      "metadata": {
        "id": "Rc_btiLzLNkk",
        "colab": {
          "base_uri": "https://localhost:8080/",
          "height": 163
        },
        "outputId": "fc7cfe8c-85d7-4424-ddc3-64661cd6d492"
      },
      "source": [
        "tom.bark()"
      ],
      "execution_count": null,
      "outputs": [
        {
          "output_type": "error",
          "ename": "NameError",
          "evalue": "ignored",
          "traceback": [
            "\u001b[0;31m---------------------------------------------------------------------------\u001b[0m",
            "\u001b[0;31mNameError\u001b[0m                                 Traceback (most recent call last)",
            "\u001b[0;32m<ipython-input-7-766ed00b22b7>\u001b[0m in \u001b[0;36m<module>\u001b[0;34m()\u001b[0m\n\u001b[0;32m----> 1\u001b[0;31m \u001b[0mtom\u001b[0m\u001b[0;34m.\u001b[0m\u001b[0mbark\u001b[0m\u001b[0;34m(\u001b[0m\u001b[0;34m)\u001b[0m\u001b[0;34m\u001b[0m\u001b[0;34m\u001b[0m\u001b[0m\n\u001b[0m",
            "\u001b[0;31mNameError\u001b[0m: name 'tom' is not defined"
          ]
        }
      ]
    },
    {
      "cell_type": "code",
      "metadata": {
        "id": "ox5dEGeOLQNT"
      },
      "source": [
        "class Dog:\n",
        "  breed = 'Collie'\n",
        "  def bark(self):\n",
        "    print(\"Dog\",self.breed,\" is Barking\")\n",
        "  def sit(self):\n",
        "    print(\"Dog is Sitting\")\n",
        "    self.eat()\n",
        "  def eat(self):\n",
        "    print(\"Dog is eating\")"
      ],
      "execution_count": null,
      "outputs": []
    },
    {
      "cell_type": "code",
      "metadata": {
        "id": "AOGQuMMYMHhb"
      },
      "source": [
        "max = Dog()"
      ],
      "execution_count": null,
      "outputs": []
    },
    {
      "cell_type": "code",
      "metadata": {
        "id": "62Y1_rj8MQn9"
      },
      "source": [
        "max.bark()"
      ],
      "execution_count": null,
      "outputs": []
    },
    {
      "cell_type": "code",
      "metadata": {
        "id": "iSdT0zdoMWnb"
      },
      "source": [
        "max.sit()"
      ],
      "execution_count": null,
      "outputs": []
    },
    {
      "cell_type": "markdown",
      "metadata": {
        "id": "DcKC8fHaOQw2"
      },
      "source": [
        "Constructor and Destructor"
      ]
    },
    {
      "cell_type": "code",
      "metadata": {
        "id": "5Xz59gEuMreo"
      },
      "source": [
        "class Dog:\n",
        "  breed = 'Collie'\n",
        "\n",
        "  def __init__self():\n",
        "    print('constructor got called')\n",
        "\n",
        "  def bark(self):\n",
        "    print(\"Dog\",self.breed,\" is Barking\")\n",
        "  def sit(self):\n",
        "    print(\"Dog is Sitting\")\n",
        "    self.eat()\n",
        "  def eat(self):\n",
        "    print(\"Dog is eating\")\n",
        "\n",
        "  def __del__self():\n",
        "    print(\"destructor got called\")"
      ],
      "execution_count": null,
      "outputs": []
    },
    {
      "cell_type": "code",
      "metadata": {
        "id": "nYmgDGfDPHmX"
      },
      "source": [
        "\n",
        "lucy = Dog()"
      ],
      "execution_count": null,
      "outputs": []
    },
    {
      "cell_type": "code",
      "metadata": {
        "id": "E7AtxD3mPc_E",
        "colab": {
          "base_uri": "https://localhost:8080/",
          "height": 34
        },
        "outputId": "e92b2055-19f1-4d88-d576-fe01af174f96"
      },
      "source": [
        "lucy.eat()\n"
      ],
      "execution_count": null,
      "outputs": [
        {
          "output_type": "stream",
          "text": [
            "Dog is eating\n"
          ],
          "name": "stdout"
        }
      ]
    },
    {
      "cell_type": "code",
      "metadata": {
        "id": "fu1GDKjCRQad"
      },
      "source": [
        "del lucy"
      ],
      "execution_count": null,
      "outputs": []
    },
    {
      "cell_type": "code",
      "metadata": {
        "id": "v1oq2TA7BmyZ"
      },
      "source": [
        ""
      ],
      "execution_count": null,
      "outputs": []
    }
  ]
}